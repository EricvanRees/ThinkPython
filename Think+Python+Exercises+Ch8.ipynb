{
 "cells": [
  {
   "cell_type": "code",
   "execution_count": 5,
   "metadata": {},
   "outputs": [
    {
     "data": {
      "text/plain": [
       "False"
      ]
     },
     "execution_count": 5,
     "metadata": {},
     "output_type": "execute_result"
    }
   ],
   "source": [
    "'''Exercise 8.10. A string slice can take a third index that specifies the “step size;” that is, the number\n",
    "of spaces between successive characters. A step size of 2 means every other character; 3 means every\n",
    "third, etc.\n",
    "\n",
    ">>> fruit = 'banana'\n",
    ">>> fruit[0:5:2]\n",
    "'bnn'\n",
    "\n",
    "A step size of -1 goes through the word backwards, so the slice [::-1] generates a reversed string.\n",
    "Use this idiom to write a one-line version of is_palindrome from Exercise 6.6.'''\n",
    "\n",
    "# repeat first function\n",
    "def is_palindrome(word):\n",
    "    if len(word) >= 3:\n",
    "        if word == word[::-1]:\n",
    "            return True\n",
    "        else:\n",
    "            return False\n",
    "    else:\n",
    "        return False\n",
    "    "
   ]
  },
  {
   "cell_type": "code",
   "execution_count": 6,
   "metadata": {},
   "outputs": [
    {
     "data": {
      "text/plain": [
       "False"
      ]
     },
     "execution_count": 6,
     "metadata": {},
     "output_type": "execute_result"
    }
   ],
   "source": [
    "# solution to question\n",
    "def is_p(word):\n",
    "    return word == word[::-1]\n",
    "\n",
    "is_p(\"hallo\")"
   ]
  },
  {
   "cell_type": "code",
   "execution_count": null,
   "metadata": {},
   "outputs": [],
   "source": [
    "'''Exercise 8.11. The following functions are all intended to check whether a string contains any\n",
    "lowercase letters, but at least some of them are wrong. For each function, describe what the function\n",
    "actually does (assuming that the parameter is a string).\n",
    "\n",
    "def any_lowercase1(s):\n",
    "    for c in s:\n",
    "    if c.islower():\n",
    "        return True\n",
    "    else:\n",
    "        return False\n",
    "\n",
    "def any_lowercase2(s):\n",
    "    for c in s:\n",
    "        if 'c'.islower():\n",
    "            return 'True\n",
    "        else:\n",
    "            return 'False'\n",
    "\n",
    "def any_lowercase3(s):\n",
    "    for c in s:\n",
    "        flag = c.islower()\n",
    "    return flag\n",
    "\n",
    "def any_lowercase4(s):\n",
    "    flag = False\n",
    "    for c in s:\n",
    "        flag = flag or c.islower()\n",
    "    return flag\n",
    "\n",
    "def any_lowercase5(s):\n",
    "    for c in s:\n",
    "        if not c.islower():\n",
    "            return False\n",
    "    return True'''"
   ]
  },
  {
   "cell_type": "code",
   "execution_count": 10,
   "metadata": {},
   "outputs": [
    {
     "data": {
      "text/plain": [
       "True"
      ]
     },
     "execution_count": 10,
     "metadata": {},
     "output_type": "execute_result"
    }
   ],
   "source": [
    "# returns true if string in lowercase\n",
    "def any_lowercase1(s):\n",
    "    for c in s:\n",
    "        if c.islower():\n",
    "            return True\n",
    "        else:\n",
    "            return False\n",
    "\n",
    "any_lowercase1(\"hi\")"
   ]
  },
  {
   "cell_type": "code",
   "execution_count": 14,
   "metadata": {},
   "outputs": [
    {
     "data": {
      "text/plain": [
       "'True'"
      ]
     },
     "execution_count": 14,
     "metadata": {},
     "output_type": "execute_result"
    }
   ],
   "source": [
    "# checks if character \"c\" is lowercase, then returns True - so will always return True as c is hardcoded\n",
    "def any_lowercase2(s):\n",
    "    for c in s:\n",
    "        if 'c'.islower():\n",
    "            return 'True'\n",
    "        else:\n",
    "            return 'False'\n",
    "\n",
    "any_lowercase2(\"HI\")"
   ]
  },
  {
   "cell_type": "code",
   "execution_count": 18,
   "metadata": {},
   "outputs": [
    {
     "data": {
      "text/plain": [
       "False"
      ]
     },
     "execution_count": 18,
     "metadata": {},
     "output_type": "execute_result"
    }
   ],
   "source": [
    "# returns True is there are any lowercase characters in string, if not, returns False\n",
    "def any_lowercase3(s):\n",
    "    for c in s:\n",
    "        flag = c.islower() \n",
    "    return flag\n",
    "\n",
    "any_lowercase3(\"HELA\")"
   ]
  },
  {
   "cell_type": "code",
   "execution_count": 21,
   "metadata": {},
   "outputs": [
    {
     "data": {
      "text/plain": [
       "True"
      ]
     },
     "execution_count": 21,
     "metadata": {},
     "output_type": "execute_result"
    }
   ],
   "source": [
    "# returns True if there are lowercase characters in s, as \"False or True\" evaluates to True (see cell below)\n",
    "def any_lowercase4(s):\n",
    "    flag = False\n",
    "    for c in s:\n",
    "        flag = flag or c.islower()\n",
    "    return flag\n",
    "\n",
    "any_lowercase4(\"Hela\")"
   ]
  },
  {
   "cell_type": "code",
   "execution_count": 22,
   "metadata": {},
   "outputs": [
    {
     "data": {
      "text/plain": [
       "True"
      ]
     },
     "execution_count": 22,
     "metadata": {},
     "output_type": "execute_result"
    }
   ],
   "source": [
    "True or False"
   ]
  },
  {
   "cell_type": "code",
   "execution_count": 23,
   "metadata": {},
   "outputs": [
    {
     "data": {
      "text/plain": [
       "False"
      ]
     },
     "execution_count": 23,
     "metadata": {},
     "output_type": "execute_result"
    }
   ],
   "source": [
    "False or False"
   ]
  },
  {
   "cell_type": "code",
   "execution_count": 33,
   "metadata": {},
   "outputs": [
    {
     "data": {
      "text/plain": [
       "True"
      ]
     },
     "execution_count": 33,
     "metadata": {},
     "output_type": "execute_result"
    }
   ],
   "source": [
    "# function returns True if string is lowercase. returns false if uppercase or partial uppercase\n",
    "def any_lowercase5(s):\n",
    "    for c in s:\n",
    "        if not c.islower():\n",
    "            return False\n",
    "    return True\n",
    "\n",
    "any_lowercase5(\"hela\")"
   ]
  },
  {
   "cell_type": "code",
   "execution_count": 43,
   "metadata": {},
   "outputs": [
    {
     "name": "stdout",
     "output_type": "stream",
     "text": [
      "jolly"
     ]
    }
   ],
   "source": [
    "'''Exercise 8.12. ROT13 is a weak form of encryption that involves “rotating” each letter in a word\n",
    "by 13 places. To rotate a letter means to shift it through the alphabet, wrapping around to the\n",
    "beginning if necessary, so ’A’ shifted by 3 is ’D’ and ’Z’ shifted by 1 is ’A’.\n",
    "\n",
    "Write a function called rotate_word that takes a string and an integer as parameters, and that\n",
    "returns a new string that contains the letters from the original string “rotated” by the given amount.\n",
    "\n",
    "For example, “cheer” rotated by 7 is “jolly” and “melon” rotated by -10 is “cubed”.\n",
    "You might want to use the built-in functions ord, which converts a character to a numeric code,\n",
    "and chr, which converts numeric codes to characters.'''\n",
    "\n",
    "def rotate_word(a, b):\n",
    "    for i in a:\n",
    "        d = ord(i) + b\n",
    "        e = chr(d)\n",
    "        print(e, end=\"\")\n",
    "    \n",
    "\n",
    "rotate_word(\"cheer\", 7)"
   ]
  }
 ],
 "metadata": {
  "kernelspec": {
   "display_name": "Python 3",
   "language": "python",
   "name": "python3"
  },
  "language_info": {
   "codemirror_mode": {
    "name": "ipython",
    "version": 3
   },
   "file_extension": ".py",
   "mimetype": "text/x-python",
   "name": "python",
   "nbconvert_exporter": "python",
   "pygments_lexer": "ipython3",
   "version": "3.6.2"
  }
 },
 "nbformat": 4,
 "nbformat_minor": 2
}
