{
 "cells": [
  {
   "cell_type": "markdown",
   "metadata": {},
   "source": [
    "<h3>Functions<h3>"
   ]
  },
  {
   "cell_type": "code",
   "execution_count": null,
   "metadata": {},
   "outputs": [],
   "source": [
    "def a():\n",
    "    return 10\n",
    "\n",
    "type(a)"
   ]
  },
  {
   "cell_type": "code",
   "execution_count": null,
   "metadata": {},
   "outputs": [],
   "source": [
    "a()"
   ]
  },
  {
   "cell_type": "markdown",
   "metadata": {},
   "source": [
    "<h3>Adding new functions</h3>"
   ]
  },
  {
   "cell_type": "code",
   "execution_count": null,
   "metadata": {},
   "outputs": [],
   "source": [
    "'''function definition specifies the name of a new function and the\n",
    "sequence of statements that execute when the function is called'''\n",
    "\n",
    "def print_lyrics():\n",
    "    print(\"I'm a lumberjack and I´m ok.\")\n",
    "    print(\"I sleep all night and I work all day.\")\n",
    "\n",
    "print_lyrics()"
   ]
  },
  {
   "cell_type": "code",
   "execution_count": null,
   "metadata": {},
   "outputs": [],
   "source": [
    "# Once you have defined a function, you can use it inside another function.\n",
    "\n",
    "def repeat_lyrics():\n",
    "    print_lyrics()\n",
    "    print_lyrics()\n",
    "    \n",
    "repeat_lyrics()"
   ]
  },
  {
   "cell_type": "markdown",
   "metadata": {},
   "source": [
    "<h3>Definitions and uses</h3>"
   ]
  },
  {
   "cell_type": "code",
   "execution_count": null,
   "metadata": {},
   "outputs": [],
   "source": [
    "'''Exercise 3.1. Move the last line of this program to the top, so the function call appears before the\n",
    "definitions. Run the program and see what error message you get.\n",
    "\n",
    "Answer: NameError'''\n",
    "\n",
    "repeat_lyrics2()\n",
    "\n",
    "def print_lyrics2():\n",
    "    print(\"I'm a lumberjack and I´m ok.\")\n",
    "    print(\"I sleep all night and I work all day.\")\n",
    "    \n",
    "\n",
    "def repeat_lyrics2():\n",
    "    print_lyrics2()\n",
    "    print_lyrics2()"
   ]
  },
  {
   "cell_type": "code",
   "execution_count": null,
   "metadata": {},
   "outputs": [],
   "source": [
    "'''Exercise 3.2. Move the function call back to the bottom and move the definition of print_lyrics\n",
    "after the definition of repeat_lyrics. What happens when you run this program?\n",
    "\n",
    "Answer: it runs OK'''\n",
    "\n",
    "def repeat_lyrics3():\n",
    "    print_lyrics3()\n",
    "    print_lyrics3()\n",
    "    \n",
    "def print_lyrics3():\n",
    "    print(\"I'm a lumberjack and I´m ok.\")\n",
    "    print(\"I sleep all night and I work all day.\")\n",
    "    \n",
    "repeat_lyrics3()"
   ]
  },
  {
   "cell_type": "code",
   "execution_count": null,
   "metadata": {},
   "outputs": [],
   "source": [
    "'''When you read a program, you don’t always want\n",
    "to read from top to bottom. Sometimes it makes more sense if you follow the flow of\n",
    "execution.'''"
   ]
  },
  {
   "cell_type": "markdown",
   "metadata": {},
   "source": [
    "<h3>Parameters and arguments</h3>"
   ]
  },
  {
   "cell_type": "code",
   "execution_count": null,
   "metadata": {},
   "outputs": [],
   "source": [
    "def print_twice(bruce):\n",
    "    print(bruce)\n",
    "    print(bruce)\n",
    "    \n",
    "print_twice(\"spam\")"
   ]
  },
  {
   "cell_type": "code",
   "execution_count": null,
   "metadata": {},
   "outputs": [],
   "source": [
    "print_twice(\"me\")"
   ]
  },
  {
   "cell_type": "code",
   "execution_count": null,
   "metadata": {},
   "outputs": [],
   "source": [
    "print_twice(\"me\" *3)"
   ]
  },
  {
   "cell_type": "code",
   "execution_count": null,
   "metadata": {},
   "outputs": [],
   "source": [
    "'''The name of the variable we pass as an argument (michael) has nothing to do with the\n",
    "name of the parameter (bruce). It doesn’t matter what the value was called back home (in\n",
    "the caller); here in print_twice, we call everybody bruce.'''\n",
    "\n",
    "michael = \"helahola\"\n",
    "\n",
    "print_twice(michael)"
   ]
  },
  {
   "cell_type": "markdown",
   "metadata": {},
   "source": [
    "<h3>Variables and parameters are local</h3>"
   ]
  },
  {
   "cell_type": "code",
   "execution_count": null,
   "metadata": {},
   "outputs": [],
   "source": [
    "'''When you create a variable inside a function, it is local, which means that it only exists\n",
    "inside the function. Parameters are also local. For example, outside print_twice, there is no such thing as\n",
    "bruce.'''\n",
    "\n",
    "def cat_twice(a, b):\n",
    "    cat = a + b\n",
    "    print_twice(cat)\n",
    "\n",
    "ho = \"ho\"\n",
    "hi = \"hi\"\n",
    "cat_twice(ho, hi)"
   ]
  },
  {
   "cell_type": "markdown",
   "metadata": {},
   "source": [
    "<h3>Exercises</h3>"
   ]
  },
  {
   "cell_type": "code",
   "execution_count": null,
   "metadata": {},
   "outputs": [],
   "source": [
    "'''Exercise 3.3. Python provides a built-in function called len that returns the length of a string, so\n",
    "the value of len('allen') is 5. Write a function named right_justify that takes a string named s as a parameter and prints the\n",
    "string with enough leading spaces so that the last letter of the string is in column 70 of the display.\n",
    ">>> right_justify('allen')\n",
    "\n",
    "                                                                    allen'''\n",
    "\n",
    "def right_justify(s):\n",
    "    print(s.rjust(70))\n",
    "\n",
    "right_justify(\"hi\")"
   ]
  },
  {
   "cell_type": "code",
   "execution_count": null,
   "metadata": {},
   "outputs": [],
   "source": [
    "'''Exercise 3.4. A function object is a value you can assign to a variable or pass as an argument. For\n",
    "example, do_twice is a function that takes a function object as an argument and calls it twice:\n",
    "\n",
    "def do_twice(f):\n",
    "    f()\n",
    "    f()\n",
    "\n",
    "Here’s an example that uses do_twice to call a function named print_spam twice.\n",
    "\n",
    "def print_spam():\n",
    "    print 'spam'\n",
    "    do_twice(print_spam)\n",
    "\n",
    "1. Type this example into a script and test it.\n",
    "2. Modify do_twice so that it takes two arguments, a function object and a value, and calls the\n",
    "function twice, passing the value as an argument.\n",
    "3. Write a more general version of print_spam, called print_twice, that takes a string as a\n",
    "parameter and prints it twice.\n",
    "4. Use the modified version of do_twice to call print_twice twice, passing 'spam' as an\n",
    "argument.\n",
    "5. Define a new function called do_four that takes a function object and a value and calls the\n",
    "function four times, passing the value as a parameter. There should be only two statements in\n",
    "the body of this function, not four.'''\n",
    "\n",
    "# ad 1.\n",
    "def do_twice(f):\n",
    "    f()\n",
    "    f()\n",
    "\n",
    "def print_spam():\n",
    "    print('spam')\n",
    "    \n",
    "\n",
    "do_twice(print_spam)"
   ]
  },
  {
   "cell_type": "code",
   "execution_count": 50,
   "metadata": {},
   "outputs": [
    {
     "name": "stdout",
     "output_type": "stream",
     "text": [
      "What word to repeat?\n",
      "jiji\n",
      "jiji\n",
      "jiji\n"
     ]
    }
   ],
   "source": [
    "# ad 2\n",
    "\n",
    "word = input('What word to repeat?\\n')\n",
    "\n",
    "def do_twice(f, word):\n",
    "   f(word)\n",
    "   f(word)\n",
    "\n",
    "def print_spam(word):\n",
    "   print(word)\n",
    "\n",
    "do_twice(print_spam, word)"
   ]
  },
  {
   "cell_type": "code",
   "execution_count": 54,
   "metadata": {},
   "outputs": [
    {
     "name": "stdout",
     "output_type": "stream",
     "text": [
      "papa\n",
      "papa\n"
     ]
    }
   ],
   "source": [
    "# ad 3  \n",
    "\n",
    "def print_twice(a):\n",
    "    print(a)\n",
    "    print(a)\n",
    "    \n",
    "word = \"papa\"\n",
    "print_twice(word)"
   ]
  },
  {
   "cell_type": "code",
   "execution_count": 55,
   "metadata": {},
   "outputs": [
    {
     "name": "stdout",
     "output_type": "stream",
     "text": [
      "spam\n",
      "spam\n"
     ]
    }
   ],
   "source": [
    "'''Use the modified version of do_twice to call print_twice twice, passing 'spam' as an\n",
    "argument.'''\n",
    "\n",
    "# ad 4\n",
    "print_twice(\"spam\")"
   ]
  },
  {
   "cell_type": "code",
   "execution_count": 58,
   "metadata": {},
   "outputs": [
    {
     "name": "stdout",
     "output_type": "stream",
     "text": [
      "spam\n",
      "spam\n",
      "spam\n",
      "spam\n"
     ]
    }
   ],
   "source": [
    "'''Define a new function called do_four that takes a function object and a value and calls the\n",
    "function four times, passing the value as a parameter. There should be only two statements in\n",
    "the body of this function, not four.'''\n",
    "\n",
    "def do_four(a, b):\n",
    "    a(b)\n",
    "    a(b)\n",
    "\n",
    "do_four(print_twice, \"spam\")"
   ]
  }
 ],
 "metadata": {
  "kernelspec": {
   "display_name": "Python 3",
   "language": "python",
   "name": "python3"
  },
  "language_info": {
   "codemirror_mode": {
    "name": "ipython",
    "version": 3
   },
   "file_extension": ".py",
   "mimetype": "text/x-python",
   "name": "python",
   "nbconvert_exporter": "python",
   "pygments_lexer": "ipython3",
   "version": "3.6.2"
  }
 },
 "nbformat": 4,
 "nbformat_minor": 2
}
