{
 "cells": [
  {
   "cell_type": "code",
   "execution_count": 6,
   "metadata": {},
   "outputs": [
    {
     "name": "stdout",
     "output_type": "stream",
     "text": [
      "1      1.0      1.0      0.0\n",
      "2      1.414213562373095      1.4142135623730951      -2.220446049250313e-16\n",
      "3      1.7320508075688772      1.7320508075688772      0.0\n",
      "4      2.0      2.0      0.0\n",
      "5      2.23606797749979      2.23606797749979      0.0\n",
      "6      2.449489742783178      2.449489742783178      0.0\n",
      "7      2.6457513110645907      2.6457513110645907      0.0\n",
      "8      2.82842712474619      2.8284271247461903      -4.440892098500626e-16\n",
      "9      3.0      3.0      0.0\n"
     ]
    }
   ],
   "source": [
    "'''Exercise 7.3. To test the square root algorithm in this chapter, you could compare it with\n",
    "math.sqrt. Write a function named test_square_root that prints a table. \n",
    "The first column is a number, a; the second column is the square root of a computed with the function\n",
    "from Section 7.5; the third column is the square root computed by math.sqrt; the fourth column is\n",
    "the absolute value of the difference between the two estimates.\n",
    "'''\n",
    "import math\n",
    "\n",
    "def square_root(a):\n",
    "    x = 2 \n",
    "    y = (x + a/x) / 2\n",
    "    epsilon = 0.00000000001\n",
    "    if abs(y - x) < epsilon:\n",
    "        pass\n",
    "    while abs(y - x) > epsilon: \n",
    "        x = y\n",
    "        y = (x + a/x) / 2\n",
    "    return y         \n",
    "    \n",
    "        \n",
    "def test_square_root():\n",
    "    a = 1\n",
    "    \n",
    "    while (a < 10):\n",
    "        b = square_root(a)\n",
    "        c = math.sqrt(a)\n",
    "        d = (b) - (c)\n",
    "        print(a, \" \"*4, b, \" \"*4, c,\" \"*4, d)\n",
    "        a = a + 1\n",
    "        \n",
    "test_square_root()"
   ]
  },
  {
   "cell_type": "code",
   "execution_count": null,
   "metadata": {},
   "outputs": [],
   "source": [
    "math.sqrt(5)"
   ]
  },
  {
   "cell_type": "code",
   "execution_count": 5,
   "metadata": {},
   "outputs": [
    {
     "name": "stdout",
     "output_type": "stream",
     "text": [
      "Please input text: di\n",
      "di\n",
      "Please input text: do\n",
      "do\n",
      "Please input text: done\n",
      "done\n"
     ]
    }
   ],
   "source": [
    "'''Exercise 7.4. The built-in function eval takes a string and evaluates it using the Python interpreter.\n",
    "\n",
    "For example:\n",
    ">>> eval('1 + 2 * 3')\n",
    "7\n",
    "\n",
    ">>> import math\n",
    ">>> eval('math.sqrt(5)')\n",
    "2.2360679774997898\n",
    "\n",
    ">>> eval('type(math.pi)')\n",
    "<type 'float'>\n",
    "\n",
    "Write a function called eval_loop that iteratively prompts the user, takes the resulting input and\n",
    "evaluates it using eval, and prints the result. It should continue until the user enters 'done', \n",
    "and then return the value of the last expression it\n",
    "evaluated.'''\n",
    "\n",
    "def eval_loop():\n",
    "    while True:\n",
    "        line = input(\"Please input text: \")\n",
    "        print(line)\n",
    "        if line == 'done':\n",
    "            break\n",
    "\n",
    "eval_loop()"
   ]
  }
 ],
 "metadata": {
  "kernelspec": {
   "display_name": "Python 3",
   "language": "python",
   "name": "python3"
  },
  "language_info": {
   "codemirror_mode": {
    "name": "ipython",
    "version": 3
   },
   "file_extension": ".py",
   "mimetype": "text/x-python",
   "name": "python",
   "nbconvert_exporter": "python",
   "pygments_lexer": "ipython3",
   "version": "3.6.2"
  }
 },
 "nbformat": 4,
 "nbformat_minor": 2
}
