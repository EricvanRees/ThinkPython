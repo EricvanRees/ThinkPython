{
 "cells": [
  {
   "cell_type": "markdown",
   "metadata": {},
   "source": [
    "<h3>Deleting elements</h3>"
   ]
  },
  {
   "cell_type": "code",
   "execution_count": null,
   "metadata": {},
   "outputs": [],
   "source": [
    "'''There are several ways to delete elements from a list. If you know the index of the element you want, you\n",
    "can use pop:'''\n",
    "\n",
    "t = ['a', 'b', 'c']\n",
    "x = t.pop(1)\n",
    "print(t)"
   ]
  },
  {
   "cell_type": "code",
   "execution_count": null,
   "metadata": {},
   "outputs": [],
   "source": [
    "print(x)"
   ]
  },
  {
   "cell_type": "code",
   "execution_count": null,
   "metadata": {
    "collapsed": true
   },
   "outputs": [],
   "source": [
    "'''If you don´t need the removed value, you can use the del operator:'''\n",
    "\n",
    "t = ['a', 'b', 'c']\n",
    "del t[1]"
   ]
  },
  {
   "cell_type": "code",
   "execution_count": null,
   "metadata": {},
   "outputs": [],
   "source": [
    "print(t)"
   ]
  },
  {
   "cell_type": "code",
   "execution_count": null,
   "metadata": {},
   "outputs": [],
   "source": [
    "'''If you know the element you want to remove (but not the index), you can use remove. The return value from\n",
    "remove is None'''\n",
    "\n",
    "t = ['a', 'b', 'c']\n",
    "t.remove('b')\n",
    "print(t)"
   ]
  },
  {
   "cell_type": "code",
   "execution_count": null,
   "metadata": {},
   "outputs": [],
   "source": [
    "'''To remove more than one element, you can use del with a slice index.\n",
    "As usual, the slice selects all the elements up to, but not including, the second index.'''\n",
    "\n",
    "t = ['a', 'b', 'c', 'd', 'e', 'f']\n",
    "del t[1:5]\n",
    "print(t)"
   ]
  },
  {
   "cell_type": "code",
   "execution_count": null,
   "metadata": {},
   "outputs": [],
   "source": [
    "'''Exercise 10.4 Write a function called middle that takes a list and returns a new list that contains all but\n",
    "the first and last elements. So middle([1,2,3,4]) should return [2,3].'''\n",
    "\n",
    "def middle(a):\n",
    "    del a[-1]\n",
    "    del a[0]\n",
    "    print(a)\n",
    "\n",
    "a = [1,2,3,4]\n",
    "middle(a)"
   ]
  },
  {
   "cell_type": "code",
   "execution_count": null,
   "metadata": {},
   "outputs": [],
   "source": [
    "'''Exercise 10.5 Write a function called chop that takes a list, modifies it by removing the first and last element,\n",
    "and returns None'''\n",
    "\n",
    "def chop(a):\n",
    "    a.remove(a[-1])\n",
    "    b = a.remove(a[0])\n",
    "    print(b)\n",
    "    \n",
    "a = [1,2,3,4]\n",
    "chop(a)"
   ]
  },
  {
   "cell_type": "markdown",
   "metadata": {},
   "source": [
    "<h3>Lists and strings</h3>"
   ]
  },
  {
   "cell_type": "code",
   "execution_count": null,
   "metadata": {},
   "outputs": [],
   "source": [
    "'''A string is a sequence of characters and a list is a sequence of values, but a list is not the same as a string.\n",
    "To convert from a string to a list of characters, you can use list:'''\n",
    "\n",
    "s = 'spam'\n",
    "t = list(s)\n",
    "print(t)"
   ]
  },
  {
   "cell_type": "code",
   "execution_count": null,
   "metadata": {},
   "outputs": [],
   "source": [
    "'''The list function breaks a string into individual letters. If you want to break a string into words,\n",
    "you can use the split method:'''\n",
    "\n",
    "s = 'pining for the fjords'\n",
    "t = s.split()\n",
    "print(t)"
   ]
  },
  {
   "cell_type": "code",
   "execution_count": null,
   "metadata": {},
   "outputs": [],
   "source": [
    "'''An optional argument called a delimiter specifies which character to use as word boundaries. \n",
    "The following example uses a hyphen as a delimiter:'''\n",
    "\n",
    "s = 'spam-spam-spam'\n",
    "delimiter = '-'\n",
    "s.split(delimiter)"
   ]
  },
  {
   "cell_type": "code",
   "execution_count": null,
   "metadata": {},
   "outputs": [],
   "source": [
    "'''join is the inverse of split. It takes a list of strings and concatenates the elements. join is\n",
    "a string method, so you have to invoke on the delimiter and pass the list as a parameter:'''\n",
    "\n",
    "t = ['pining', 'for', 'the', 'fjords']\n",
    "delimiter = ' '\n",
    "delimiter.join(t)"
   ]
  },
  {
   "cell_type": "code",
   "execution_count": null,
   "metadata": {},
   "outputs": [],
   "source": [
    "'''To concatenate strings without spaces, you can use the empty string '', as a delimiter'''\n",
    "\n",
    "t = ['pining', 'for', 'the', 'fjords']\n",
    "delimiter = ''\n",
    "delimiter.join(t)"
   ]
  },
  {
   "cell_type": "markdown",
   "metadata": {},
   "source": [
    "<h3>Object and values</h3>"
   ]
  },
  {
   "cell_type": "code",
   "execution_count": null,
   "metadata": {},
   "outputs": [],
   "source": [
    "'''To check whether two variables refer to the same object, you can use the is operator: '''\n",
    "\n",
    "a = 'banana'\n",
    "b = 'banana'\n",
    "a is b"
   ]
  },
  {
   "cell_type": "code",
   "execution_count": null,
   "metadata": {},
   "outputs": [],
   "source": [
    "'''But when you create two lists, you get two objects:'''\n",
    "\n",
    "a = [1,2,3]\n",
    "b = [1,2,3]\n",
    "a is b"
   ]
  },
  {
   "cell_type": "code",
   "execution_count": null,
   "metadata": {},
   "outputs": [],
   "source": [
    "'''In this case we would say that the two lists are equivalent, because they have the same elements, but not identical,\n",
    "because they are not the same object.'''"
   ]
  },
  {
   "cell_type": "markdown",
   "metadata": {},
   "source": [
    "<h3>Aliasing</h3>"
   ]
  },
  {
   "cell_type": "code",
   "execution_count": 53,
   "metadata": {},
   "outputs": [
    {
     "data": {
      "text/plain": [
       "True"
      ]
     },
     "execution_count": 53,
     "metadata": {},
     "output_type": "execute_result"
    }
   ],
   "source": [
    "'''An object with more than one reference has more than one name, so we say that the object is aliased.\n",
    "If the aliased object is mutable, changes made with one alias affect the other: '''\n",
    "\n",
    "a = [1,2,3]\n",
    "b = a\n",
    "b is a"
   ]
  },
  {
   "cell_type": "code",
   "execution_count": 54,
   "metadata": {},
   "outputs": [
    {
     "name": "stdout",
     "output_type": "stream",
     "text": [
      "[17, 2, 3]\n"
     ]
    }
   ],
   "source": [
    "b[0] = 17\n",
    "print(a)"
   ]
  },
  {
   "cell_type": "markdown",
   "metadata": {},
   "source": [
    "<h3>List arguments</h3>"
   ]
  },
  {
   "cell_type": "code",
   "execution_count": 56,
   "metadata": {},
   "outputs": [
    {
     "name": "stdout",
     "output_type": "stream",
     "text": [
      "['b', 'c']\n"
     ]
    }
   ],
   "source": [
    "'''When you pass a list to a function, the function gets a reference to the list. If the function modifies a \n",
    "list parameter, the caller sees the change. For example, delete_head removes the first element from a list: '''\n",
    "\n",
    "def delete_head(t):\n",
    "    del t[0]\n",
    "    \n",
    "letters = ['a', 'b', 'c']\n",
    "delete_head(letters)\n",
    "print(letters)"
   ]
  },
  {
   "cell_type": "code",
   "execution_count": null,
   "metadata": {
    "collapsed": true
   },
   "outputs": [],
   "source": [
    "'''the parameter t and the variable letters are aliases for the same object.'''"
   ]
  },
  {
   "cell_type": "code",
   "execution_count": 57,
   "metadata": {},
   "outputs": [
    {
     "name": "stdout",
     "output_type": "stream",
     "text": [
      "[1, 2, 3]\n"
     ]
    }
   ],
   "source": [
    "'''it is important to distinguish between operations that modify lists and operations that create new lists.\n",
    "for example, the append method modifies a list, but the + operator creates a new list: '''\n",
    "\n",
    "t1 = [1, 2]\n",
    "t2 = t1.append(3)\n",
    "print(t1)"
   ]
  },
  {
   "cell_type": "code",
   "execution_count": 58,
   "metadata": {},
   "outputs": [
    {
     "name": "stdout",
     "output_type": "stream",
     "text": [
      "None\n"
     ]
    }
   ],
   "source": [
    "print(t2)"
   ]
  },
  {
   "cell_type": "code",
   "execution_count": 59,
   "metadata": {},
   "outputs": [
    {
     "name": "stdout",
     "output_type": "stream",
     "text": [
      "[1, 2, 3, 4]\n"
     ]
    }
   ],
   "source": [
    "t3 = t1 + [4]\n",
    "print(t3)"
   ]
  },
  {
   "cell_type": "code",
   "execution_count": 60,
   "metadata": {},
   "outputs": [
    {
     "name": "stdout",
     "output_type": "stream",
     "text": [
      "['b', 'c']\n"
     ]
    }
   ],
   "source": [
    "'''the difference is important when you write functions that are supposed to modify lists.\n",
    "an alternative is to write a function that creates and returns a new list. For example, tail returns all\n",
    "but the first element of a list: '''\n",
    "\n",
    "def tail(t):\n",
    "    return t[1:]\n",
    "\n",
    "# this function leaves the original list unmodified:\n",
    "letters = ['a', 'b', 'c']\n",
    "rest = tail(letters)\n",
    "print(rest)"
   ]
  }
 ],
 "metadata": {
  "kernelspec": {
   "display_name": "Python 3",
   "language": "python",
   "name": "python3"
  },
  "language_info": {
   "codemirror_mode": {
    "name": "ipython",
    "version": 3
   },
   "file_extension": ".py",
   "mimetype": "text/x-python",
   "name": "python",
   "nbconvert_exporter": "python",
   "pygments_lexer": "ipython3",
   "version": "3.6.2"
  }
 },
 "nbformat": 4,
 "nbformat_minor": 2
}
