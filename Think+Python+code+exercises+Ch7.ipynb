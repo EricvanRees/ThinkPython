{
 "cells": [
  {
   "cell_type": "markdown",
   "metadata": {},
   "source": [
    "<h3>Multiple assignment</h3>"
   ]
  },
  {
   "cell_type": "code",
   "execution_count": null,
   "metadata": {
    "collapsed": true
   },
   "outputs": [],
   "source": [
    "a = 5\n",
    "b = a # a and b are now equal\n",
    "a = 3 # a and b are no longer equal"
   ]
  },
  {
   "cell_type": "markdown",
   "metadata": {},
   "source": [
    "<h3>Updating variable</h3>"
   ]
  },
  {
   "cell_type": "code",
   "execution_count": null,
   "metadata": {
    "collapsed": true
   },
   "outputs": [],
   "source": [
    "# get the current value of x, add one, and then update x with the new value\n",
    "x = 4\n",
    "x = x + 1"
   ]
  },
  {
   "cell_type": "markdown",
   "metadata": {},
   "source": [
    "<h3>The while statement</h3>"
   ]
  },
  {
   "cell_type": "code",
   "execution_count": null,
   "metadata": {},
   "outputs": [],
   "source": [
    "# here is a version of countdown that uses a while statement\n",
    "\n",
    "def countdown(n):\n",
    "    while n > 0:\n",
    "        print(n)\n",
    "        n = n - 1\n",
    "    print('Blastoff!')\n",
    "    \n",
    "countdown(8)"
   ]
  },
  {
   "cell_type": "code",
   "execution_count": null,
   "metadata": {},
   "outputs": [],
   "source": [
    "'''Exercise 7.1 Rewrite the function print_n using iteration instead of recursion'''\n",
    "\n",
    "''''\n",
    "def print_n(s, n):\n",
    "    if n <= 0:\n",
    "        return\n",
    "    print(s) \n",
    "    print_n(s, n-1)\n",
    "\n",
    "print_n(10, 1)\n",
    "'''\n",
    "\n",
    "def print_n(s, n):\n",
    "    while n > 0:\n",
    "        print(s)\n",
    "        print_n(s, n-1)\n",
    "        n = n - 1\n",
    "\n",
    "print_n(10, 1)"
   ]
  },
  {
   "cell_type": "code",
   "execution_count": null,
   "metadata": {},
   "outputs": [],
   "source": [
    "'''Sometimes you don’t know it’s time to end a loop until you get half way through the body.\n",
    "In that case you can use the break statement to jump out of the loop.'''\n",
    "\n",
    "while True:\n",
    "    line = input('> ')\n",
    "    if line == 'done':\n",
    "        break\n",
    "    print(line)\n",
    "    \n",
    "print(\"Done\")"
   ]
  },
  {
   "cell_type": "markdown",
   "metadata": {},
   "source": [
    "<h3>Square roots</h3>"
   ]
  },
  {
   "cell_type": "code",
   "execution_count": 1,
   "metadata": {},
   "outputs": [
    {
     "name": "stdout",
     "output_type": "stream",
     "text": [
      "2.0\n"
     ]
    }
   ],
   "source": [
    "'''Exercise 7.2. Encapsulate this loop in a function called square_root that takes a as a parameter,\n",
    "chooses a reasonable value of x, and returns an estimate of the square root of a.'''\n",
    "\n",
    "def square_r(a):\n",
    "    x = 2\n",
    "    y = (x + a/x) / 2\n",
    "    print(y)\n",
    "\n",
    "square_r(4)"
   ]
  },
  {
   "cell_type": "code",
   "execution_count": 13,
   "metadata": {},
   "outputs": [
    {
     "name": "stdout",
     "output_type": "stream",
     "text": [
      "4.0\n"
     ]
    }
   ],
   "source": [
    "def square_root(a):\n",
    "    x = 2 \n",
    "    y = (x + a/x) / 2\n",
    "    epsilon = 0.00000000001\n",
    "    if abs(y - x) < epsilon:\n",
    "        print(y)\n",
    "    while abs(y - x) > epsilon: \n",
    "        x = y\n",
    "        y = (x + a/x) / 2\n",
    "    print(y) \n",
    "    \n",
    "square_root(16)"
   ]
  },
  {
   "cell_type": "code",
   "execution_count": 14,
   "metadata": {},
   "outputs": [
    {
     "data": {
      "text/plain": [
       "4.0"
      ]
     },
     "execution_count": 14,
     "metadata": {},
     "output_type": "execute_result"
    }
   ],
   "source": [
    "def square_root(a):\n",
    "    x = a / 2.0\n",
    "\n",
    "    while True:\n",
    "        y = (x + a / x) / 2\n",
    "\n",
    "        # You've reached Python's max float precision\n",
    "        if x == y:\n",
    "            return x\n",
    "\n",
    "        x = y\n",
    "        \n",
    "square_root(16)"
   ]
  },
  {
   "cell_type": "code",
   "execution_count": 15,
   "metadata": {},
   "outputs": [
    {
     "name": "stdout",
     "output_type": "stream",
     "text": [
      "The count is: 0\n",
      "The count is: 1\n",
      "The count is: 2\n",
      "The count is: 3\n",
      "The count is: 4\n",
      "The count is: 5\n",
      "The count is: 6\n",
      "The count is: 7\n",
      "The count is: 8\n",
      "Good bye!\n"
     ]
    }
   ],
   "source": [
    "# more while loop examples\n",
    "\n",
    "count = 0\n",
    "while (count < 9):\n",
    "   print('The count is:', count)\n",
    "   count = count + 1\n",
    "\n",
    "print(\"Good bye!\")"
   ]
  },
  {
   "cell_type": "code",
   "execution_count": 18,
   "metadata": {},
   "outputs": [
    {
     "name": "stdout",
     "output_type": "stream",
     "text": [
      "count is:  0\n",
      "count is:  1\n",
      "count is:  2\n",
      "count is:  3\n",
      "count is:  4\n",
      "count is:  5\n",
      "count is:  6\n",
      "count is:  7\n",
      "count is:  8\n",
      "Good bye!\n"
     ]
    }
   ],
   "source": [
    "# same example but with While \"True\" \n",
    "count = 0\n",
    "while True:\n",
    "    print(\"count is: \", count)\n",
    "    count = count + 1\n",
    "    if count == 9:\n",
    "        break\n",
    "\n",
    "print(\"Good bye!\")"
   ]
  }
 ],
 "metadata": {
  "kernelspec": {
   "display_name": "Python 3",
   "language": "python",
   "name": "python3"
  },
  "language_info": {
   "codemirror_mode": {
    "name": "ipython",
    "version": 3
   },
   "file_extension": ".py",
   "mimetype": "text/x-python",
   "name": "python",
   "nbconvert_exporter": "python",
   "pygments_lexer": "ipython3",
   "version": "3.6.2"
  }
 },
 "nbformat": 4,
 "nbformat_minor": 2
}
