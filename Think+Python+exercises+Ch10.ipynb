{
 "cells": [
  {
   "cell_type": "code",
   "execution_count": 1,
   "metadata": {},
   "outputs": [
    {
     "data": {
      "text/plain": [
       "True"
      ]
     },
     "execution_count": 1,
     "metadata": {},
     "output_type": "execute_result"
    }
   ],
   "source": [
    "'''Exercise 10.6. Write a function called is_sorted that takes a list as a parameter and returns True\n",
    "if the list is sorted in ascending order and False otherwise. You can assume (as a precondition) that\n",
    "the elements of the list can be compared with the relational operators <, >, etc.\n",
    "For example, is_sorted([1,2,2]) should return True and is_sorted(['b','a']) should return\n",
    "False.'''\n",
    "\n",
    "def is_sorted(a):\n",
    "    if a == sorted(a[::-1]):\n",
    "        return True\n",
    "    else:\n",
    "        return False\n",
    "\n",
    "t = [1,2,2]\n",
    "is_sorted(t)"
   ]
  },
  {
   "cell_type": "code",
   "execution_count": 2,
   "metadata": {},
   "outputs": [
    {
     "data": {
      "text/plain": [
       "False"
      ]
     },
     "execution_count": 2,
     "metadata": {},
     "output_type": "execute_result"
    }
   ],
   "source": [
    "is_sorted(['b','a'])"
   ]
  },
  {
   "cell_type": "code",
   "execution_count": 3,
   "metadata": {},
   "outputs": [
    {
     "data": {
      "text/plain": [
       "True"
      ]
     },
     "execution_count": 3,
     "metadata": {},
     "output_type": "execute_result"
    }
   ],
   "source": [
    "''''Exercise 10.7. Two words are anagrams if you can rearrange the letters from one to spell the other.\n",
    "Write a function called is_anagram that takes two strings and returns True if they are anagrams.'''\n",
    "\n",
    "def is_anagram(a, b):\n",
    "    if sorted(a) == sorted(b):\n",
    "        return True\n",
    "    else:\n",
    "        return False\n",
    "\n",
    "is_anagram(\"pool\", \"loop\")"
   ]
  },
  {
   "cell_type": "code",
   "execution_count": 4,
   "metadata": {},
   "outputs": [
    {
     "data": {
      "text/plain": [
       "True"
      ]
     },
     "execution_count": 4,
     "metadata": {},
     "output_type": "execute_result"
    }
   ],
   "source": [
    "'''Exercise 10.8. The (so-called) Birthday Paradox:\n",
    "1. Write a function called has_duplicates that takes a list and returns True if there is any\n",
    "element that appears more than once. It should not modify the original list.'''\n",
    "\n",
    "def has_duplicates(a):\n",
    "    if len(a) != len(set(a)):\n",
    "        return True\n",
    "    else:\n",
    "        return False\n",
    "\n",
    "b = [1,1,2,2,3,3]\n",
    "has_duplicates(b)"
   ]
  },
  {
   "cell_type": "code",
   "execution_count": 5,
   "metadata": {},
   "outputs": [
    {
     "data": {
      "text/plain": [
       "[1, 1, 2, 2, 3, 3]"
      ]
     },
     "execution_count": 5,
     "metadata": {},
     "output_type": "execute_result"
    }
   ],
   "source": [
    "b"
   ]
  },
  {
   "cell_type": "code",
   "execution_count": 5,
   "metadata": {},
   "outputs": [
    {
     "name": "stdout",
     "output_type": "stream",
     "text": [
      "1000 samples of 23 birthdays generated 540 matches\n"
     ]
    }
   ],
   "source": [
    "# code klopt niet\n",
    "\n",
    "'''2. If there are 23 students in your class, what are the chances that two of you have the same\n",
    "birthday? You can estimate this probability by generating random samples of 23 birthdays and\n",
    "checking for matches. Hint: you can generate random birthdays with the randint function\n",
    "in the random module.'''\n",
    "\n",
    "import random\n",
    "\n",
    "def proef():\n",
    "    count = 0\n",
    "    for i in range(1000):\n",
    "        bdlist = []\n",
    "        for i in range(23):\n",
    "            bdlist.append(random.randint(0,365))\n",
    "        if len(bdlist) != len(set(bdlist)):\n",
    "            count +=1\n",
    "    \n",
    "    print(\"1000 samples of 23 birthdays generated %d matches\" % count)\n",
    "\n",
    "proef()"
   ]
  },
  {
   "cell_type": "code",
   "execution_count": 69,
   "metadata": {},
   "outputs": [
    {
     "data": {
      "text/plain": [
       "[33, 11, 22]"
      ]
     },
     "execution_count": 69,
     "metadata": {},
     "output_type": "execute_result"
    }
   ],
   "source": [
    "'''Exercise 10.9. Write a function called remove_duplicates that takes a list and returns a new\n",
    "list with only the unique elements from the original. Hint: they don’t have to be in the same order.'''\n",
    "\n",
    "def remove_duplicates(a):\n",
    "    return list(set(a))\n",
    "\n",
    "t = [11,11,22,22,33,33]\n",
    "remove_duplicates(t)"
   ]
  },
  {
   "cell_type": "code",
   "execution_count": 19,
   "metadata": {},
   "outputs": [
    {
     "name": "stdout",
     "output_type": "stream",
     "text": [
      "62.5 ms ± 5.62 ms per loop (mean ± std. dev. of 7 runs, 10 loops each)\n"
     ]
    }
   ],
   "source": [
    "'''Exercise 10.10. Write a function that reads the file words.txt and builds a list with one element\n",
    "per word. Write two versions of this function, one using the append method and the other using\n",
    "the idiom t = t + [x]. Which one takes longer to run? Why?'''\n",
    "\n",
    "def w_list():\n",
    "    listofwords1 = []\n",
    "    fin = open('words.txt')\n",
    "    for line in fin:\n",
    "        word = line.strip()\n",
    "        listofwords1.append(word)\n",
    "        \n",
    "%timeit w_list()"
   ]
  },
  {
   "cell_type": "code",
   "execution_count": 27,
   "metadata": {},
   "outputs": [
    {
     "name": "stdout",
     "output_type": "stream",
     "text": [
      "55.3 ms ± 613 µs per loop (mean ± std. dev. of 7 runs, 10 loops each)\n"
     ]
    }
   ],
   "source": [
    "def w_list():\n",
    "    listofwords2 = []\n",
    "    fin = open('words.txt')\n",
    "    for line in fin:\n",
    "        word = line.strip()\n",
    "        listofwords2 += [word]\n",
    "    \n",
    "%timeit w_list()"
   ]
  }
 ],
 "metadata": {
  "kernelspec": {
   "display_name": "Python 3",
   "language": "python",
   "name": "python3"
  },
  "language_info": {
   "codemirror_mode": {
    "name": "ipython",
    "version": 3
   },
   "file_extension": ".py",
   "mimetype": "text/x-python",
   "name": "python",
   "nbconvert_exporter": "python",
   "pygments_lexer": "ipython3",
   "version": "3.6.2"
  }
 },
 "nbformat": 4,
 "nbformat_minor": 2
}
