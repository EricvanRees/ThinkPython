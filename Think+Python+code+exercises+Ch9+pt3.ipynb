{
 "cells": [
  {
   "cell_type": "markdown",
   "metadata": {},
   "source": [
    "<h3>Search</h3>"
   ]
  },
  {
   "cell_type": "code",
   "execution_count": 1,
   "metadata": {},
   "outputs": [
    {
     "data": {
      "text/plain": [
       "True"
      ]
     },
     "execution_count": 1,
     "metadata": {},
     "output_type": "execute_result"
    }
   ],
   "source": [
    "'''The for loop traverses the characters in word. If we find the letter e, we can immediately return False;\n",
    "otherwise we have to go to the next letter. If we exit the loop normally, that means we didn´t find an e, so we \n",
    "return True.'''\n",
    "\n",
    "def has_no_e(word):\n",
    "    for letter in word:\n",
    "        if letter == 'e':\n",
    "            return False\n",
    "    return True\n",
    "\n",
    "has_no_e(\"zappa\") # word with no \"e\""
   ]
  },
  {
   "cell_type": "code",
   "execution_count": 2,
   "metadata": {},
   "outputs": [
    {
     "data": {
      "text/plain": [
       "True"
      ]
     },
     "execution_count": 2,
     "metadata": {},
     "output_type": "execute_result"
    }
   ],
   "source": [
    "'''avoids() is a more general version of has_no_e but it has the same structure. We can return False as soon as we\n",
    "find a forbidden letter, if we get to the end of the loop, we return True.'''\n",
    "\n",
    "def avoids(word, forbidden):\n",
    "    for letter in word:\n",
    "        if letter in forbidden:\n",
    "            return False\n",
    "    return True\n",
    "\n",
    "avoids(\"boekenkast\", \"xyz\") # no forbidden letters from forbidden in word, so we return True"
   ]
  },
  {
   "cell_type": "code",
   "execution_count": 3,
   "metadata": {},
   "outputs": [
    {
     "data": {
      "text/plain": [
       "False"
      ]
     },
     "execution_count": 3,
     "metadata": {},
     "output_type": "execute_result"
    }
   ],
   "source": [
    "'''uses_only is similar except that the sense of the condition is reversed: instead of a list of forbidden\n",
    "letters, we have a list of available letters. If we find a letter in word that is not in available, we can \n",
    "return False'''\n",
    "\n",
    "def uses_only(word, available):\n",
    "    for letter in word:\n",
    "        if letter not in available:\n",
    "            return False\n",
    "    return True\n",
    "\n",
    "uses_only(\"boekenkast\", \"xyz\") #letters in word do not correspond to those in \"available\", so returns False"
   ]
  },
  {
   "cell_type": "code",
   "execution_count": 4,
   "metadata": {},
   "outputs": [
    {
     "data": {
      "text/plain": [
       "False"
      ]
     },
     "execution_count": 4,
     "metadata": {},
     "output_type": "execute_result"
    }
   ],
   "source": [
    "'''uses_all is similar except that we reverse the role of the word and the string of letters. Instead of \n",
    "traversing the letters in word, the loop traverses the required letters. If any of the required letters do not appear\n",
    "in the word, we can return False.'''\n",
    "\n",
    "def uses_all(word, required):\n",
    "    for letter in required:\n",
    "        if letter not in word:\n",
    "            return False\n",
    "    return True\n",
    "\n",
    "uses_all(\"boekenkast\", \"xyz\") # required letters do not appear in \"word\", so returns False"
   ]
  },
  {
   "cell_type": "code",
   "execution_count": 5,
   "metadata": {},
   "outputs": [
    {
     "data": {
      "text/plain": [
       "False"
      ]
     },
     "execution_count": 5,
     "metadata": {},
     "output_type": "execute_result"
    }
   ],
   "source": [
    "'''uses_all was an instance of a previously-solved problem:'''\n",
    "\n",
    "def uses_all(word, required):\n",
    "    return uses_only(required, word) # copy of uses_all of last cell, but order of input reversed\n",
    "\n",
    "uses_all(\"boekenkast\", \"xyz\")"
   ]
  },
  {
   "cell_type": "markdown",
   "metadata": {},
   "source": [
    "<h3>Looping with indices</h3>"
   ]
  },
  {
   "cell_type": "code",
   "execution_count": 8,
   "metadata": {},
   "outputs": [
    {
     "data": {
      "text/plain": [
       "True"
      ]
     },
     "execution_count": 8,
     "metadata": {},
     "output_type": "execute_result"
    }
   ],
   "source": [
    "'''For is_abecedarian() we have to compare adjacent letters, which is a little tricky with a for loop:'''\n",
    "\n",
    "def is_abecedarian(word):  \n",
    "    previous = word[0]\n",
    "    for c in word:\n",
    "        if c < previous:\n",
    "            return False\n",
    "        previous = c\n",
    "    return True\n",
    "\n",
    "is_abecedarian(\"defghijkl\") "
   ]
  },
  {
   "cell_type": "code",
   "execution_count": 7,
   "metadata": {},
   "outputs": [
    {
     "data": {
      "text/plain": [
       "True"
      ]
     },
     "execution_count": 7,
     "metadata": {},
     "output_type": "execute_result"
    }
   ],
   "source": [
    "'''An alternative is to use recursion:'''\n",
    "\n",
    "def is_abecedarian(word):\n",
    "    if len(word) <= 1:\n",
    "        return True\n",
    "    if word[0] > word[1]:\n",
    "        return False\n",
    "    return is_abecedarian(word[1:])\n",
    "\n",
    "is_abecedarian(\"defghijkl\") "
   ]
  },
  {
   "cell_type": "code",
   "execution_count": 9,
   "metadata": {},
   "outputs": [
    {
     "data": {
      "text/plain": [
       "True"
      ]
     },
     "execution_count": 9,
     "metadata": {},
     "output_type": "execute_result"
    }
   ],
   "source": [
    "'''Another option is to use a while loop.\n",
    "The loop starts at i=0 and ends when i=len(word)-1.\n",
    "Each time time through the loop, it compares the i-th character (which you can think of as the current character) to the\n",
    "i + 1th character (which you can think of as the next).\n",
    "If the next character is less than (alphabetically before) the current one, then we have discovered a break in the\n",
    "abecedarian trend, and we return False'''\n",
    "\n",
    "def is_abecedarian(word):\n",
    "    i = 0\n",
    "    while i < len(word)-1:\n",
    "        if word[i+1] < word[i]:\n",
    "            return False\n",
    "        i = i+1\n",
    "    return True\n",
    "\n",
    "is_abecedarian('flossy')"
   ]
  },
  {
   "cell_type": "code",
   "execution_count": 10,
   "metadata": {},
   "outputs": [
    {
     "data": {
      "text/plain": [
       "True"
      ]
     },
     "execution_count": 10,
     "metadata": {},
     "output_type": "execute_result"
    }
   ],
   "source": [
    "'''Here is a version of is_palindrome:'''\n",
    "\n",
    "def is_palindrome(word):\n",
    "    i = 0\n",
    "    j = len(word)-1\n",
    "    \n",
    "    while i<j:\n",
    "        if word[i] != word[j]:\n",
    "            return False\n",
    "        i = i+1\n",
    "        j = i-1\n",
    "        \n",
    "    return True\n",
    "\n",
    "is_palindrome(\"noon\")"
   ]
  },
  {
   "cell_type": "code",
   "execution_count": 54,
   "metadata": {},
   "outputs": [
    {
     "name": "stdout",
     "output_type": "stream",
     "text": [
      "Here are all the words in the list that have\n",
      "three consecutive double letters:\n",
      "bookkeeper\n",
      "bookkeepers\n",
      "bookkeeping\n",
      "bookkeepings\n"
     ]
    }
   ],
   "source": [
    "'''Exercise 9.7 Give me a word with three consecutive double letters:'''\n",
    "\n",
    "def is_triple_double(word):\n",
    "    \"\"\"Tests if a word contains three consecutive double letters.\"\"\"\n",
    "    i = 0\n",
    "    count = 0\n",
    "    while i < len(word)-1:\n",
    "        if word[i] == word[i+1]:\n",
    "            count = count + 1\n",
    "            if count == 3:\n",
    "                return True\n",
    "            i = i + 2\n",
    "        else:\n",
    "            count = 0\n",
    "            i = i + 1\n",
    "    return False\n",
    "\n",
    "\n",
    "def find_triple_double():\n",
    "    \"\"\"Reads a word list and prints words with triple double letters.\"\"\"\n",
    "    fin = open('words.txt')\n",
    "    for line in fin:\n",
    "        word = line.strip()\n",
    "        if is_triple_double(word):\n",
    "            print(word)\n",
    "\n",
    "\n",
    "print('Here are all the words in the list that have')\n",
    "print('three consecutive double letters:')\n",
    "find_triple_double()"
   ]
  }
 ],
 "metadata": {
  "kernelspec": {
   "display_name": "Python 3",
   "language": "python",
   "name": "python3"
  },
  "language_info": {
   "codemirror_mode": {
    "name": "ipython",
    "version": 3
   },
   "file_extension": ".py",
   "mimetype": "text/x-python",
   "name": "python",
   "nbconvert_exporter": "python",
   "pygments_lexer": "ipython3",
   "version": "3.6.2"
  }
 },
 "nbformat": 4,
 "nbformat_minor": 2
}
