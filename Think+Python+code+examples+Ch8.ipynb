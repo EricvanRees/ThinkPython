{
 "cells": [
  {
   "cell_type": "markdown",
   "metadata": {},
   "source": [
    "<h3>a string is a sequence</h3>"
   ]
  },
  {
   "cell_type": "code",
   "execution_count": 1,
   "metadata": {
    "collapsed": true
   },
   "outputs": [],
   "source": [
    "# a string is a sequence of characters\n",
    "fruit = 'banana'\n",
    "\n",
    "# this statement selects character number 1 from fruit and assigns to to 'letter'\n",
    "letter = fruit[1]"
   ]
  },
  {
   "cell_type": "code",
   "execution_count": 2,
   "metadata": {},
   "outputs": [
    {
     "data": {
      "text/plain": [
       "'a'"
      ]
     },
     "execution_count": 2,
     "metadata": {},
     "output_type": "execute_result"
    }
   ],
   "source": [
    "letter"
   ]
  },
  {
   "cell_type": "markdown",
   "metadata": {},
   "source": [
    "<h3>len</h3>"
   ]
  },
  {
   "cell_type": "code",
   "execution_count": 3,
   "metadata": {},
   "outputs": [
    {
     "data": {
      "text/plain": [
       "6"
      ]
     },
     "execution_count": 3,
     "metadata": {},
     "output_type": "execute_result"
    }
   ],
   "source": [
    "# len is a built-in function that returns the number of characters in a string\n",
    "len(fruit)"
   ]
  },
  {
   "cell_type": "code",
   "execution_count": 5,
   "metadata": {},
   "outputs": [
    {
     "name": "stdout",
     "output_type": "stream",
     "text": [
      "a\n"
     ]
    }
   ],
   "source": [
    "# to get the last character, you have to subtract 1 from length:\n",
    "length = len(fruit)\n",
    "last = fruit[length-1]\n",
    "print(last)"
   ]
  },
  {
   "cell_type": "markdown",
   "metadata": {},
   "source": [
    "<h3>traversal with a for loop</h3>"
   ]
  },
  {
   "cell_type": "code",
   "execution_count": 6,
   "metadata": {},
   "outputs": [
    {
     "name": "stdout",
     "output_type": "stream",
     "text": [
      "b\n",
      "a\n",
      "n\n",
      "a\n",
      "n\n",
      "a\n"
     ]
    }
   ],
   "source": [
    "# traversal = pattern of processing that starts at the beginning, select each character and turn,\n",
    "# do someting to it and continue till the end\n",
    "\n",
    "index = 0\n",
    "while index < len(fruit):\n",
    "    letter = fruit[index]\n",
    "    print(letter)\n",
    "    index = index + 1"
   ]
  },
  {
   "cell_type": "code",
   "execution_count": 16,
   "metadata": {
    "collapsed": true
   },
   "outputs": [],
   "source": [
    "'''Exercise 8.1. Write a function that a string as an argument and displays the letters backward, one per line'''\n",
    "\n",
    "def backward(string):\n",
    "    index = len(string) - 1\n",
    "    while index >= 0:\n",
    "        letter = string[index]\n",
    "        print(letter)\n",
    "        index = index - 1"
   ]
  },
  {
   "cell_type": "code",
   "execution_count": 17,
   "metadata": {},
   "outputs": [
    {
     "name": "stdout",
     "output_type": "stream",
     "text": [
      "o\n",
      "l\n",
      "l\n",
      "a\n",
      "h\n"
     ]
    }
   ],
   "source": [
    "backward(\"hallo\")"
   ]
  },
  {
   "cell_type": "code",
   "execution_count": 18,
   "metadata": {},
   "outputs": [
    {
     "name": "stdout",
     "output_type": "stream",
     "text": [
      "b\n",
      "a\n",
      "n\n",
      "a\n",
      "n\n",
      "a\n"
     ]
    }
   ],
   "source": [
    "# another way to write a traversal is with a for loop:\n",
    "\n",
    "for char in fruit:\n",
    "    print(char)"
   ]
  },
  {
   "cell_type": "code",
   "execution_count": 19,
   "metadata": {},
   "outputs": [
    {
     "name": "stdout",
     "output_type": "stream",
     "text": [
      "Jack\n",
      "Kack\n",
      "Lack\n",
      "Mack\n",
      "Nack\n",
      "Oack\n",
      "Pack\n",
      "Qack\n"
     ]
    }
   ],
   "source": [
    "prefixes = 'JKLMNOPQ'\n",
    "suffix = 'ack'\n",
    "\n",
    "for letter in prefixes:\n",
    "    print(letter + suffix)"
   ]
  },
  {
   "cell_type": "code",
   "execution_count": 20,
   "metadata": {},
   "outputs": [
    {
     "name": "stdout",
     "output_type": "stream",
     "text": [
      "Jack\n",
      "Kack\n",
      "Lack\n",
      "Mack\n",
      "Nack\n",
      "Ouack\n",
      "Pack\n",
      "Quack\n"
     ]
    }
   ],
   "source": [
    "'''Of course, that’s not quite right because “Ouack” and “Quack” are misspelled.\n",
    "Exercise 8.2. Modify the program to fix this error.'''\n",
    "\n",
    "for letter in prefixes:\n",
    "    if letter == 'O' or letter == 'Q':\n",
    "        print(letter + 'u' + suffix)\n",
    "    else:\n",
    "        print(letter + suffix)"
   ]
  },
  {
   "cell_type": "markdown",
   "metadata": {},
   "source": [
    "<h3>String slices</h3>"
   ]
  },
  {
   "cell_type": "code",
   "execution_count": 21,
   "metadata": {},
   "outputs": [
    {
     "name": "stdout",
     "output_type": "stream",
     "text": [
      "Monty\n"
     ]
    }
   ],
   "source": [
    "# a segment of a string is called a slice. Selecting a slice is similar to selecting a character:\n",
    "\n",
    "s = 'Monty Python'\n",
    "print(s[0:5])"
   ]
  },
  {
   "cell_type": "code",
   "execution_count": 22,
   "metadata": {},
   "outputs": [
    {
     "name": "stdout",
     "output_type": "stream",
     "text": [
      "Python\n"
     ]
    }
   ],
   "source": [
    "print(s[6:12])"
   ]
  },
  {
   "cell_type": "code",
   "execution_count": 23,
   "metadata": {},
   "outputs": [
    {
     "data": {
      "text/plain": [
       "'ban'"
      ]
     },
     "execution_count": 23,
     "metadata": {},
     "output_type": "execute_result"
    }
   ],
   "source": [
    "# The operator [n:m] returns the part of the string from the “n-eth” character to the “m-eth”\n",
    "# character, including the first but excluding the last.\n",
    "\n",
    "# If you omit the first index (before the colon), the slice starts at the beginning of the string.\n",
    "\n",
    "fruit = 'banana'\n",
    "fruit[:3]"
   ]
  },
  {
   "cell_type": "code",
   "execution_count": 24,
   "metadata": {},
   "outputs": [
    {
     "data": {
      "text/plain": [
       "'ana'"
      ]
     },
     "execution_count": 24,
     "metadata": {},
     "output_type": "execute_result"
    }
   ],
   "source": [
    "# If you omit the second index, the slice goes to the end of the string:\n",
    "fruit[3:]"
   ]
  },
  {
   "cell_type": "code",
   "execution_count": 25,
   "metadata": {},
   "outputs": [
    {
     "data": {
      "text/plain": [
       "''"
      ]
     },
     "execution_count": 25,
     "metadata": {},
     "output_type": "execute_result"
    }
   ],
   "source": [
    "# if the first index is greater than or equal to the second, the result is an empty string,\n",
    "# represented by two quotation marks:\n",
    "\n",
    "fruit = 'banana'\n",
    "fruit[3:3]"
   ]
  },
  {
   "cell_type": "code",
   "execution_count": 26,
   "metadata": {},
   "outputs": [
    {
     "data": {
      "text/plain": [
       "'banana'"
      ]
     },
     "execution_count": 26,
     "metadata": {},
     "output_type": "execute_result"
    }
   ],
   "source": [
    "'''Exercise 8.3 Given that fruit is a string, what does fruit[:] mean?'''\n",
    "\n",
    "fruit[:]"
   ]
  },
  {
   "cell_type": "code",
   "execution_count": 27,
   "metadata": {},
   "outputs": [
    {
     "data": {
      "text/plain": [
       "str"
      ]
     },
     "execution_count": 27,
     "metadata": {},
     "output_type": "execute_result"
    }
   ],
   "source": [
    "type(fruit[:])"
   ]
  },
  {
   "cell_type": "markdown",
   "metadata": {},
   "source": [
    "<h3>Strings are immutable</h3>"
   ]
  },
  {
   "cell_type": "code",
   "execution_count": 28,
   "metadata": {},
   "outputs": [
    {
     "name": "stdout",
     "output_type": "stream",
     "text": [
      "Jello, world!\n"
     ]
    }
   ],
   "source": [
    "'''strings are immutable, which means you can´t change an existing string.\n",
    "the best you can do is create a new string that is a variation of the original:'''\n",
    "\n",
    "greeting = 'Hello, world!'\n",
    "new_greeting = 'J' + greeting[1:]\n",
    "print(new_greeting)"
   ]
  },
  {
   "cell_type": "markdown",
   "metadata": {},
   "source": [
    "<h3>Searching</h3>"
   ]
  },
  {
   "cell_type": "code",
   "execution_count": 29,
   "metadata": {},
   "outputs": [
    {
     "data": {
      "text/plain": [
       "4"
      ]
     },
     "execution_count": 29,
     "metadata": {},
     "output_type": "execute_result"
    }
   ],
   "source": [
    "# \"find\" takes a character and finds the index where that character appears\n",
    "# if the character is not found, it returns -1\n",
    "# this pattern of \n",
    "\n",
    "def find(word, letter):\n",
    "    index = 0\n",
    "    while index < len(word):\n",
    "        if word[index] == letter:\n",
    "            return index\n",
    "        index = index + 1\n",
    "    return -1\n",
    "\n",
    "find(\"hallo\", \"o\")"
   ]
  },
  {
   "cell_type": "code",
   "execution_count": 30,
   "metadata": {},
   "outputs": [
    {
     "data": {
      "text/plain": [
       "4"
      ]
     },
     "execution_count": 30,
     "metadata": {},
     "output_type": "execute_result"
    }
   ],
   "source": [
    "'''Exercise 8.4 Modify \"find\" so that it has a third paramter, the index in word where it should start looking'''\n",
    "\n",
    "def find(word, letter, index):\n",
    "    while index < len(word):\n",
    "        if word[index] == letter:\n",
    "            return index\n",
    "        index = index + 1\n",
    "    return -1\n",
    "\n",
    "find(\"hallo\", \"o\", 3)"
   ]
  },
  {
   "cell_type": "code",
   "execution_count": 31,
   "metadata": {},
   "outputs": [
    {
     "name": "stdout",
     "output_type": "stream",
     "text": [
      "3\n"
     ]
    }
   ],
   "source": [
    "'''This program demonstrates another pattern of computation called a counter. The variable count is initialized\n",
    "to 0 and then incremented each time an \"a\" is found. When the loop exits, count contains the result, the total\n",
    "number of a's.'''\n",
    "\n",
    "word = 'banana'\n",
    "count = 0\n",
    "for letter in word:\n",
    "    if letter == 'a':\n",
    "        count = count + 1\n",
    "print(count)"
   ]
  },
  {
   "cell_type": "code",
   "execution_count": 38,
   "metadata": {},
   "outputs": [
    {
     "name": "stdout",
     "output_type": "stream",
     "text": [
      "2\n"
     ]
    }
   ],
   "source": [
    "'''Exercise 8.5. Encapsulate this code in a function named count, and generalize it so that it accepts\n",
    "the string and the letter as arguments.'''\n",
    "\n",
    "def count(string, letter):\n",
    "    count = 0\n",
    "    for let in string:\n",
    "        if let == letter:\n",
    "            count = count + 1\n",
    "    print(count)\n",
    "\n",
    "count(\"pandabeer\", \"a\")"
   ]
  },
  {
   "cell_type": "code",
   "execution_count": 44,
   "metadata": {},
   "outputs": [
    {
     "name": "stdout",
     "output_type": "stream",
     "text": [
      "1\n"
     ]
    }
   ],
   "source": [
    "'''Exercise 8.6. Rewrite this function so that instead of traversing the string, it uses the threeparameter\n",
    "version of find from the previous section.'''\n",
    "\n",
    "def count2(word, letter, index):\n",
    "    word = word[index:]\n",
    "    count = 0\n",
    "    for let in word:\n",
    "        if let == letter:\n",
    "            count = count + 1\n",
    "    print(count)\n",
    "\n",
    "count2(\"pandabeer\", \"a\", 2)"
   ]
  },
  {
   "cell_type": "markdown",
   "metadata": {},
   "source": [
    "<h3>The in operator</h3>"
   ]
  },
  {
   "cell_type": "code",
   "execution_count": 45,
   "metadata": {},
   "outputs": [
    {
     "data": {
      "text/plain": [
       "True"
      ]
     },
     "execution_count": 45,
     "metadata": {},
     "output_type": "execute_result"
    }
   ],
   "source": [
    "'''The word \"in\" is a boolean operator that takes two strings and returns True if the fist appears as a\n",
    "substring in the second:'''\n",
    "\n",
    "'a' in 'banana'"
   ]
  },
  {
   "cell_type": "code",
   "execution_count": 46,
   "metadata": {},
   "outputs": [
    {
     "data": {
      "text/plain": [
       "False"
      ]
     },
     "execution_count": 46,
     "metadata": {},
     "output_type": "execute_result"
    }
   ],
   "source": [
    "'seed' in 'banana'"
   ]
  },
  {
   "cell_type": "code",
   "execution_count": 52,
   "metadata": {},
   "outputs": [
    {
     "name": "stdout",
     "output_type": "stream",
     "text": [
      "ekkerek"
     ]
    }
   ],
   "source": [
    "# the following function prints all the letters from word1 that also appear in word2:\n",
    "\n",
    "def in_both(word1, word2):\n",
    "    for letter in word1:\n",
    "        if letter in word2:\n",
    "            print(letter, end='')\n",
    "\n",
    "in_both(\"lekkerbek\", \"neckermann\")"
   ]
  },
  {
   "cell_type": "markdown",
   "metadata": {},
   "source": [
    "<h3>String comparison</h3>"
   ]
  },
  {
   "cell_type": "code",
   "execution_count": 53,
   "metadata": {},
   "outputs": [
    {
     "name": "stdout",
     "output_type": "stream",
     "text": [
      "All right, bananas.\n"
     ]
    }
   ],
   "source": [
    "# the relational operators work on strings. To see if two strings are equal:\n",
    "\n",
    "if word == 'banana':\n",
    "    print('All right, bananas.')"
   ]
  },
  {
   "cell_type": "code",
   "execution_count": 56,
   "metadata": {},
   "outputs": [
    {
     "name": "stdout",
     "output_type": "stream",
     "text": [
      "Your word,yoyuo, comes after banana.\n"
     ]
    }
   ],
   "source": [
    "# other relational operations are useful for putting words in alphabetical worder:\n",
    "word = 'yoyuo'\n",
    "\n",
    "if word < 'banana':\n",
    "    print('Your word, ' + word + ', comes before banana.')\n",
    "elif word > 'banana':\n",
    "    print('Your word,' + word + ', comes after banana.')\n",
    "else:\n",
    "    print('All right, bananas.')"
   ]
  },
  {
   "cell_type": "code",
   "execution_count": 57,
   "metadata": {
    "collapsed": true
   },
   "outputs": [],
   "source": [
    "# Python does not handle uppercase and lowercase letters the same way that people do. All the uppercase letters come\n",
    "# before all the lowercase leters, so \"Your word, Pineapple, comes before banana.\""
   ]
  },
  {
   "cell_type": "markdown",
   "metadata": {},
   "source": [
    "<h3>Debugging</h3>"
   ]
  },
  {
   "cell_type": "code",
   "execution_count": 58,
   "metadata": {},
   "outputs": [
    {
     "ename": "IndexError",
     "evalue": "string index out of range",
     "output_type": "error",
     "traceback": [
      "\u001b[1;31m---------------------------------------------------------------------------\u001b[0m",
      "\u001b[1;31mIndexError\u001b[0m                                Traceback (most recent call last)",
      "\u001b[1;32m<ipython-input-58-8c71590dd471>\u001b[0m in \u001b[0;36m<module>\u001b[1;34m()\u001b[0m\n\u001b[0;32m     14\u001b[0m     \u001b[1;32mreturn\u001b[0m \u001b[1;32mTrue\u001b[0m\u001b[1;33m\u001b[0m\u001b[0m\n\u001b[0;32m     15\u001b[0m \u001b[1;33m\u001b[0m\u001b[0m\n\u001b[1;32m---> 16\u001b[1;33m \u001b[0mis_reverse\u001b[0m\u001b[1;33m(\u001b[0m\u001b[1;34m\"hello\"\u001b[0m\u001b[1;33m,\u001b[0m \u001b[1;34m\"olleh\"\u001b[0m\u001b[1;33m)\u001b[0m\u001b[1;33m\u001b[0m\u001b[0m\n\u001b[0m",
      "\u001b[1;32m<ipython-input-58-8c71590dd471>\u001b[0m in \u001b[0;36mis_reverse\u001b[1;34m(word1, word2)\u001b[0m\n\u001b[0;32m      7\u001b[0m \u001b[1;33m\u001b[0m\u001b[0m\n\u001b[0;32m      8\u001b[0m     \u001b[1;32mwhile\u001b[0m \u001b[0mj\u001b[0m \u001b[1;33m>\u001b[0m \u001b[1;36m0\u001b[0m\u001b[1;33m:\u001b[0m\u001b[1;33m\u001b[0m\u001b[0m\n\u001b[1;32m----> 9\u001b[1;33m         \u001b[1;32mif\u001b[0m \u001b[0mword1\u001b[0m\u001b[1;33m[\u001b[0m\u001b[0mi\u001b[0m\u001b[1;33m]\u001b[0m \u001b[1;33m!=\u001b[0m \u001b[0mword\u001b[0m\u001b[1;33m[\u001b[0m\u001b[0mj\u001b[0m\u001b[1;33m]\u001b[0m\u001b[1;33m:\u001b[0m\u001b[1;33m\u001b[0m\u001b[0m\n\u001b[0m\u001b[0;32m     10\u001b[0m             \u001b[1;32mreturn\u001b[0m \u001b[1;32mFalse\u001b[0m\u001b[1;33m\u001b[0m\u001b[0m\n\u001b[0;32m     11\u001b[0m         \u001b[0mi\u001b[0m \u001b[1;33m=\u001b[0m \u001b[0mi\u001b[0m\u001b[1;33m+\u001b[0m\u001b[1;36m1\u001b[0m\u001b[1;33m\u001b[0m\u001b[0m\n",
      "\u001b[1;31mIndexError\u001b[0m: string index out of range"
     ]
    }
   ],
   "source": [
    "'''Here is a function that is supposed to compare two words and return True if one of the words is the reverse of the other, \n",
    "but it contains two errors'''\n",
    "\n",
    "def is_reverse(word1, word2):\n",
    "    if len(word1) != len(word2):\n",
    "        return False\n",
    "    \n",
    "    i = 0\n",
    "    j = len(word2)\n",
    "    \n",
    "    while j > 0:\n",
    "        if word1[i] != word[j]:\n",
    "            return False\n",
    "        i = i+1\n",
    "        j = j-1\n",
    "    \n",
    "    return True\n",
    "\n",
    "is_reverse(\"hello\", \"olleh\")"
   ]
  },
  {
   "cell_type": "code",
   "execution_count": 63,
   "metadata": {},
   "outputs": [
    {
     "name": "stdout",
     "output_type": "stream",
     "text": [
      "0 3\n",
      "1 2\n",
      "2 1\n"
     ]
    },
    {
     "data": {
      "text/plain": [
       "True"
      ]
     },
     "execution_count": 63,
     "metadata": {},
     "output_type": "execute_result"
    }
   ],
   "source": [
    "'''for debugging this kind of error, my first move is to print the values of the indices immediately\n",
    "before the line where the error appears:\n",
    "\n",
    "while j > 0:\n",
    "    print i, j # print here\n",
    "    \n",
    "    if word1[i] != word2[j]:\n",
    "        return False\n",
    "    i = i + 1\n",
    "    j = j - 1\n",
    "\n",
    "Now when I run the program again, I get more information:\n",
    "\n",
    "is_reverse('pots', 'stop')'''\n",
    "\n",
    "def is_reverse2(word1, word2):\n",
    "    if len(word1) != len(word2):\n",
    "        return False\n",
    "    \n",
    "    i = 0\n",
    "    j = len(word2) - 1\n",
    "    \n",
    "    while j > 0:\n",
    "        print(i, j)\n",
    "        if word1[i] != word2[j]:\n",
    "            return False\n",
    "        i = i+1\n",
    "        j = j-1\n",
    "    \n",
    "    return True\n",
    "\n",
    "is_reverse2('pots', 'stop')"
   ]
  },
  {
   "cell_type": "code",
   "execution_count": 68,
   "metadata": {},
   "outputs": [
    {
     "name": "stdout",
     "output_type": "stream",
     "text": [
      "p p\n",
      "o o\n",
      "t t\n"
     ]
    },
    {
     "data": {
      "text/plain": [
       "True"
      ]
     },
     "execution_count": 68,
     "metadata": {},
     "output_type": "execute_result"
    }
   ],
   "source": [
    "'''Exercise 8.9. Starting with this diagram, execute the program on paper, changing the values of i\n",
    "and j during each iteration. Find and fix the second error in this function.'''\n",
    "\n",
    "def is_reverse2(word1, word2):\n",
    "    if len(word1) != len(word2):\n",
    "        return False\n",
    "    \n",
    "    i = 0\n",
    "    j = len(word2) - 1\n",
    "    \n",
    "    while j > 0:\n",
    "        print(word1[i], word2[j]) # prints letters instead of numbers\n",
    "        if word1[i] != word2[j]:\n",
    "            return False\n",
    "        i = i+1\n",
    "        j = j-1\n",
    "    \n",
    "    return True\n",
    "\n",
    "is_reverse2('pots', 'stop')"
   ]
  },
  {
   "cell_type": "code",
   "execution_count": 67,
   "metadata": {},
   "outputs": [
    {
     "name": "stdout",
     "output_type": "stream",
     "text": [
      "p p\n",
      "o o\n",
      "t t\n",
      "s s\n"
     ]
    },
    {
     "data": {
      "text/plain": [
       "True"
      ]
     },
     "execution_count": 67,
     "metadata": {},
     "output_type": "execute_result"
    }
   ],
   "source": [
    "# judging from the output, the last iteration is missing. this can be fixed \n",
    "\n",
    "def is_reverse2(word1, word2):\n",
    "    if len(word1) != len(word2):\n",
    "        return False\n",
    "    \n",
    "    i = 0\n",
    "    j = len(word2) - 1\n",
    "    \n",
    "    while j >= 0: # by changing \"> 0\" to \">= 0\" we get the last iteration needed to print the entire word \n",
    "        print(word1[i], word2[j])\n",
    "        if word1[i] != word2[j]:\n",
    "            return False\n",
    "        i = i+1\n",
    "        j = j-1\n",
    "    \n",
    "    return True\n",
    "\n",
    "is_reverse2('pots', 'stop')"
   ]
  }
 ],
 "metadata": {
  "kernelspec": {
   "display_name": "Python 3",
   "language": "python",
   "name": "python3"
  },
  "language_info": {
   "codemirror_mode": {
    "name": "ipython",
    "version": 3
   },
   "file_extension": ".py",
   "mimetype": "text/x-python",
   "name": "python",
   "nbconvert_exporter": "python",
   "pygments_lexer": "ipython3",
   "version": "3.6.2"
  }
 },
 "nbformat": 4,
 "nbformat_minor": 2
}
